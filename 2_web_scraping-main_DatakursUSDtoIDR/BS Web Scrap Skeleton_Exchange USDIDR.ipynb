{
 "cells": [
  {
   "cell_type": "markdown",
   "metadata": {},
   "source": [
    "# Capstone Webscraping using BeautifulSoup\n",
    "\n",
    "This notebook contains guidances & tasks on the data processing for the application\n",
    "\n",
    "## Background\n",
    "\n",
    "(Please insert the background here )\n",
    "\n",
    "## Requesting the Data and Creating a BeautifulSoup\n",
    "\n",
    "Let's start by requesting the webpage using the `get` method from the `requests` library."
   ]
  },
  {
   "cell_type": "code",
   "execution_count": 46,
   "metadata": {
    "ExecuteTime": {
     "end_time": "2020-01-13T05:12:23.275508Z",
     "start_time": "2020-01-13T05:12:20.009898Z"
    }
   },
   "outputs": [],
   "source": [
    "import requests\n",
    "\n",
    "url_get = requests.get('https://www.exchange-rates.org/exchange-rate-history/usd-idr')"
   ]
  },
  {
   "cell_type": "markdown",
   "metadata": {},
   "source": [
    "To visualize what exactly you get from the `request.get`, we can use `.content` so see what we exactly get (HTML content), in here i slice it so it won't make our screen full of the html we get from the page. You can delete the slicing if you want to see what we fully get."
   ]
  },
  {
   "cell_type": "code",
   "execution_count": 47,
   "metadata": {
    "ExecuteTime": {
     "end_time": "2020-01-13T05:12:23.290648Z",
     "start_time": "2020-01-13T05:12:23.277650Z"
    }
   },
   "outputs": [
    {
     "data": {
      "text/plain": [
       "b'!DOCTYPE html>\\r\\n<!--[if lt IE 9]>\\r\\n<html class=\"no-js ie8 oldie\" lang=\"en\" xml:lang=\\'en\\'>\\r\\n<![endif]-->\\r\\n<!--[if gt IE 8]><!--><html class=\"no-js\" lang=\"en\" xml:lang=\\'en\\'><!--<![endif]-->\\r\\n<head>\\r\\n<title>USD to IDR exchange rate history</title>\\r\\n<meta http-equiv=\"X-UA-Compatible\" content=\"IE=edge\">\\r\\n<meta name=\"viewport\" content=\"width=device-width, initial-scale=1, maximum-scale=5\">\\r\\n<meta charset=\"utf-8\" /><meta http-equiv=\"Content-Type\" content=\"text/html; charset=utf-8\" />\\r\\n<base href=\"http'"
      ]
     },
     "execution_count": 47,
     "metadata": {},
     "output_type": "execute_result"
    }
   ],
   "source": [
    "url_get.content[1:500]"
   ]
  },
  {
   "cell_type": "markdown",
   "metadata": {},
   "source": [
    "As we can see we get a very unstructured and complex html, which actually contains the codes needed to show the webpages on your web browser. But we as human still confused what and where we can use that piece of code, so here where we use the beautifulsoup. Beautiful soup class will result a beautifulsoup object. Beautiful Soup transforms a complex HTML document into a complex tree of Python objects. \n",
    "\n",
    "Let's create a BeautifulSoup object and feel free to explore the object here."
   ]
  },
  {
   "cell_type": "code",
   "execution_count": 48,
   "metadata": {
    "ExecuteTime": {
     "end_time": "2020-01-13T05:12:23.808122Z",
     "start_time": "2020-01-13T05:12:23.292610Z"
    }
   },
   "outputs": [
    {
     "name": "stdout",
     "output_type": "stream",
     "text": [
      "<class 'bs4.BeautifulSoup'>\n"
     ]
    }
   ],
   "source": [
    "from bs4 import BeautifulSoup \n",
    "\n",
    "soup = BeautifulSoup(url_get.content,\"html.parser\")\n",
    "print(type(soup))"
   ]
  },
  {
   "cell_type": "markdown",
   "metadata": {},
   "source": [
    "Let's see how our Beautiful Soup looks like. As you can see, the content is the same with our get_url object but it's tidier. Also beautifulsoup give us method to make it even more prettier, for tidyness porpose we slice it only 500 character."
   ]
  },
  {
   "cell_type": "code",
   "execution_count": 49,
   "metadata": {},
   "outputs": [
    {
     "name": "stdout",
     "output_type": "stream",
     "text": [
      "!DOCTYPE html>\n",
      "<!--[if lt IE 9]>\n",
      "<html class=\"no-js ie8 oldie\" lang=\"en\" xml:lang='en'>\n",
      "<![endif]-->\n",
      "<!--[if gt IE 8]><!-->\n",
      "<html class=\"no-js\" lang=\"en\" xml:lang=\"en\">\n",
      " <!--<![endif]-->\n",
      " <head>\n",
      "  <title>\n",
      "   USD to IDR exchange rate history\n",
      "  </title>\n",
      "  <meta content=\"IE=edge\" http-equiv=\"X-UA-Compatible\"/>\n",
      "  <meta content=\"width=device-width, initial-scale=1, maximum-scale=5\" name=\"viewport\"/>\n",
      "  <meta charset=\"utf-8\">\n",
      "   <meta content=\"text/html; charset=utf-8\" http-equiv=\"Content-Type\">\n",
      "   \n"
     ]
    }
   ],
   "source": [
    "print(soup.prettify()[1:500])"
   ]
  },
  {
   "cell_type": "markdown",
   "metadata": {},
   "source": [
    "## Finding the right key to scrap the data & Extracting the right information"
   ]
  },
  {
   "cell_type": "markdown",
   "metadata": {},
   "source": [
    "To extract the desired information, we need to find the right key using the .find() method. We can explore the HTML structure using .prettify().\n",
    "\n",
    "*(please change this markdown with your explanation)*"
   ]
  },
  {
   "cell_type": "code",
   "execution_count": 50,
   "metadata": {
    "ExecuteTime": {
     "end_time": "2020-01-13T05:12:23.878904Z",
     "start_time": "2020-01-13T05:12:23.854974Z"
    }
   },
   "outputs": [
    {
     "name": "stdout",
     "output_type": "stream",
     "text": [
      "tbody>\n",
      " <tr>\n",
      "  <td>\n",
      "   <a class=\"w\" href=\"/exchange-rate-history/usd-idr-2024-05-09\">\n",
      "    May 9, 2024\n",
      "   </a>\n",
      "   <a class=\"n\" href=\"/exchange-rate-history/usd-idr-2024-05-09\">\n",
      "    2024-5-9\n",
      "   </a>\n",
      "  </td>\n",
      "  <td>\n",
      "   <span class=\"w\">\n",
      "    <span class=\"nowrap\">\n",
      "     <span class=\"currencySymbol\">\n",
      "      $\n",
      "     </span>\n",
      "     1 =\n",
      "    </span>\n",
      "    <span class=\"nowrap\">\n",
      "     <span class=\"currencySymbol\">\n",
      "      Rp\n",
      "     </span>\n",
      "     16,027\n",
      "    </span>\n",
      "   </span>\n",
      "   <span class=\"n\">\n",
      "    <span class=\"nowrap\">\n",
      "\n"
     ]
    }
   ],
   "source": [
    "#take the key that points to the contents of the table without a table head or without the title of each column\n",
    "table = soup.find('tbody')\n",
    "print(table.prettify()[1:500])"
   ]
  },
  {
   "cell_type": "markdown",
   "metadata": {},
   "source": [
    "Next, we need to find the row length."
   ]
  },
  {
   "cell_type": "code",
   "execution_count": 51,
   "metadata": {},
   "outputs": [
    {
     "data": {
      "text/plain": [
       "<td>\n",
       "<a class=\"w\" href=\"/exchange-rate-history/usd-idr-2024-05-09\">May 9, 2024</a>\n",
       "<a class=\"n\" href=\"/exchange-rate-history/usd-idr-2024-05-09\">2024-5-9</a>\n",
       "</td>"
      ]
     },
     "execution_count": 51,
     "metadata": {},
     "output_type": "execute_result"
    }
   ],
   "source": [
    "td = table.find('td')\n",
    "td"
   ]
  },
  {
   "cell_type": "code",
   "execution_count": 52,
   "metadata": {},
   "outputs": [],
   "source": [
    "#row_length = len(td)\n",
    "#row_length --> hasilnya 5"
   ]
  },
  {
   "cell_type": "code",
   "execution_count": 53,
   "metadata": {},
   "outputs": [
    {
     "data": {
      "text/plain": [
       "<tr>\n",
       "<td>\n",
       "<a class=\"w\" href=\"/exchange-rate-history/usd-idr-2024-05-09\">May 9, 2024</a>\n",
       "<a class=\"n\" href=\"/exchange-rate-history/usd-idr-2024-05-09\">2024-5-9</a>\n",
       "</td>\n",
       "<td>\n",
       "<span class=\"w\"><span class=\"nowrap\"><span class=\"currencySymbol\">$</span>1 =</span> <span class=\"nowrap\"><span class=\"currencySymbol\">Rp</span>16,027</span></span>\n",
       "<span class=\"n\"><span class=\"nowrap\"><span class=\"currencySymbol\">$</span>1 =</span> <span class=\"nowrap\"><span class=\"currencySymbol\">Rp</span>16,027</span></span>\n",
       "</td>\n",
       "</tr>"
      ]
     },
     "execution_count": 53,
     "metadata": {},
     "output_type": "execute_result"
    }
   ],
   "source": [
    "#Calculate the length of the row data\n",
    "tr = table.find_all('tr')\n",
    "tr[0]"
   ]
  },
  {
   "cell_type": "code",
   "execution_count": 54,
   "metadata": {},
   "outputs": [
    {
     "data": {
      "text/plain": [
       "'May 8, 2024'"
      ]
     },
     "execution_count": 54,
     "metadata": {},
     "output_type": "execute_result"
    }
   ],
   "source": [
    "table.find_all('a', attrs= {'class':'w'})[1].text"
   ]
  },
  {
   "cell_type": "code",
   "execution_count": 55,
   "metadata": {},
   "outputs": [
    {
     "data": {
      "text/plain": [
       "'$1 = Rp16,075'"
      ]
     },
     "execution_count": 55,
     "metadata": {},
     "output_type": "execute_result"
    }
   ],
   "source": [
    "table.find_all('span', attrs= {'class':'w'})[1].text"
   ]
  },
  {
   "cell_type": "code",
   "execution_count": 56,
   "metadata": {},
   "outputs": [
    {
     "data": {
      "text/plain": [
       "129"
      ]
     },
     "execution_count": 56,
     "metadata": {},
     "output_type": "execute_result"
    }
   ],
   "source": [
    "#Menghitung jumlah row (tidak bisa menggunakan data 'tr' karena ada row untuk ads dan bottom data)\n",
    "#Jika menggunakan data tr maka saat looping akan error (list index out of range)\n",
    "row = table.find_all('span', attrs= {'class':'w'})\n",
    "row_length = len(row)\n",
    "row_length"
   ]
  },
  {
   "cell_type": "code",
   "execution_count": 57,
   "metadata": {},
   "outputs": [
    {
     "data": {
      "text/plain": [
       "<a class=\"n\" href=\"/exchange-rate-history/usd-idr-2024-05-09\">2024-5-9</a>"
      ]
     },
     "execution_count": 57,
     "metadata": {},
     "output_type": "execute_result"
    }
   ],
   "source": [
    "#Mencari data tanggal\n",
    "a_class=table.find('a', attrs={'class':'n'})\n",
    "a_class"
   ]
  },
  {
   "cell_type": "markdown",
   "metadata": {},
   "source": [
    "Do the scrapping process here (please change this markdown with your explanation). \n",
    "\n",
    "> You can use a for loop to perform the scraping process in various ways depending on the HTML structure of the website you want to scrap and the information you want to retrieve."
   ]
  },
  {
   "cell_type": "code",
   "execution_count": 58,
   "metadata": {},
   "outputs": [
    {
     "data": {
      "text/plain": [
       "[('May 9, 2024', '$1 = Rp16,027'),\n",
       " ('May 8, 2024', '$1 = Rp16,075'),\n",
       " ('May 7, 2024', '$1 = Rp16,072'),\n",
       " ('May 6, 2024', '$1 = Rp16,042'),\n",
       " ('May 3, 2024', '$1 = Rp15,969'),\n",
       " ('May 2, 2024', '$1 = Rp16,095'),\n",
       " ('May 1, 2024', '$1 = Rp16,194'),\n",
       " ('April 30, 2024', '$1 = Rp16,263'),\n",
       " ('April 29, 2024', '$1 = Rp16,241'),\n",
       " ('April 26, 2024', '$1 = Rp16,241'),\n",
       " ('April 25, 2024', '$1 = Rp16,193'),\n",
       " ('April 24, 2024', '$1 = Rp16,212'),\n",
       " ('April 23, 2024', '$1 = Rp16,143'),\n",
       " ('April 22, 2024', '$1 = Rp16,238'),\n",
       " ('April 19, 2024', '$1 = Rp16,218'),\n",
       " ('April 18, 2024', '$1 = Rp16,210'),\n",
       " ('April 17, 2024', '$1 = Rp16,243'),\n",
       " ('April 16, 2024', '$1 = Rp16,303'),\n",
       " ('April 15, 2024', '$1 = Rp16,083'),\n",
       " ('April 12, 2024', '$1 = Rp16,118'),\n",
       " ('April 11, 2024', '$1 = Rp16,011'),\n",
       " ('April 10, 2024', '$1 = Rp16,001'),\n",
       " ('April 9, 2024', '$1 = Rp15,892'),\n",
       " ('April 8, 2024', '$1 = Rp15,912'),\n",
       " ('April 5, 2024', '$1 = Rp15,888'),\n",
       " ('April 4, 2024', '$1 = Rp15,896'),\n",
       " ('April 3, 2024', '$1 = Rp15,942'),\n",
       " ('April 2, 2024', '$1 = Rp15,952'),\n",
       " ('April 1, 2024', '$1 = Rp15,951'),\n",
       " ('March 29, 2024', '$1 = Rp15,880'),\n",
       " ('March 28, 2024', '$1 = Rp15,891'),\n",
       " ('March 27, 2024', '$1 = Rp15,901'),\n",
       " ('March 26, 2024', '$1 = Rp15,821'),\n",
       " ('March 25, 2024', '$1 = Rp15,784'),\n",
       " ('March 22, 2024', '$1 = Rp15,814'),\n",
       " ('March 21, 2024', '$1 = Rp15,727'),\n",
       " ('March 20, 2024', '$1 = Rp15,697'),\n",
       " ('March 19, 2024', '$1 = Rp15,723'),\n",
       " ('March 18, 2024', '$1 = Rp15,742'),\n",
       " ('March 15, 2024', '$1 = Rp15,647'),\n",
       " ('March 14, 2024', '$1 = Rp15,638'),\n",
       " ('March 13, 2024', '$1 = Rp15,580'),\n",
       " ('March 12, 2024', '$1 = Rp15,560'),\n",
       " ('March 11, 2024', '$1 = Rp15,525'),\n",
       " ('March 8, 2024', '$1 = Rp15,541'),\n",
       " ('March 7, 2024', '$1 = Rp15,627'),\n",
       " ('March 6, 2024', '$1 = Rp15,660'),\n",
       " ('March 5, 2024', '$1 = Rp15,743'),\n",
       " ('March 4, 2024', '$1 = Rp15,760'),\n",
       " ('March 1, 2024', '$1 = Rp15,702'),\n",
       " ('February 29, 2024', '$1 = Rp15,712'),\n",
       " ('February 28, 2024', '$1 = Rp15,731'),\n",
       " ('February 27, 2024', '$1 = Rp15,673'),\n",
       " ('February 26, 2024', '$1 = Rp15,634'),\n",
       " ('February 23, 2024', '$1 = Rp15,594'),\n",
       " ('February 22, 2024', '$1 = Rp15,594'),\n",
       " ('February 21, 2024', '$1 = Rp15,658'),\n",
       " ('February 20, 2024', '$1 = Rp15,657'),\n",
       " ('February 19, 2024', '$1 = Rp15,643'),\n",
       " ('February 16, 2024', '$1 = Rp15,656'),\n",
       " ('February 15, 2024', '$1 = Rp15,679'),\n",
       " ('February 14, 2024', '$1 = Rp15,646'),\n",
       " ('February 13, 2024', '$1 = Rp15,671'),\n",
       " ('February 12, 2024', '$1 = Rp15,581'),\n",
       " ('February 9, 2024', '$1 = Rp15,611'),\n",
       " ('February 8, 2024', '$1 = Rp15,665'),\n",
       " ('February 7, 2024', '$1 = Rp15,653'),\n",
       " ('February 6, 2024', '$1 = Rp15,738'),\n",
       " ('February 5, 2024', '$1 = Rp15,775'),\n",
       " ('February 2, 2024', '$1 = Rp15,731'),\n",
       " ('February 1, 2024', '$1 = Rp15,733'),\n",
       " ('January 31, 2024', '$1 = Rp15,768'),\n",
       " ('January 30, 2024', '$1 = Rp15,791'),\n",
       " ('January 29, 2024', '$1 = Rp15,835'),\n",
       " ('January 26, 2024', '$1 = Rp15,775'),\n",
       " ('January 25, 2024', '$1 = Rp15,820'),\n",
       " ('January 24, 2024', '$1 = Rp15,720'),\n",
       " ('January 23, 2024', '$1 = Rp15,726'),\n",
       " ('January 22, 2024', '$1 = Rp15,661'),\n",
       " ('January 19, 2024', '$1 = Rp15,620'),\n",
       " ('January 18, 2024', '$1 = Rp15,621'),\n",
       " ('January 17, 2024', '$1 = Rp15,638'),\n",
       " ('January 16, 2024', '$1 = Rp15,632'),\n",
       " ('January 15, 2024', '$1 = Rp15,553'),\n",
       " ('January 12, 2024', '$1 = Rp15,538'),\n",
       " ('January 11, 2024', '$1 = Rp15,563'),\n",
       " ('January 10, 2024', '$1 = Rp15,563'),\n",
       " ('January 9, 2024', '$1 = Rp15,536'),\n",
       " ('January 8, 2024', '$1 = Rp15,507'),\n",
       " ('January 5, 2024', '$1 = Rp15,503'),\n",
       " ('January 4, 2024', '$1 = Rp15,518'),\n",
       " ('January 3, 2024', '$1 = Rp15,562'),\n",
       " ('January 2, 2024', '$1 = Rp15,499'),\n",
       " ('January 1, 2024', '$1 = Rp15,390'),\n",
       " ('December 29, 2023', '$1 = Rp15,390'),\n",
       " ('December 28, 2023', '$1 = Rp15,461'),\n",
       " ('December 27, 2023', '$1 = Rp15,380'),\n",
       " ('December 26, 2023', '$1 = Rp15,408'),\n",
       " ('December 25, 2023', '$1 = Rp15,468'),\n",
       " ('December 22, 2023', '$1 = Rp15,467'),\n",
       " ('December 21, 2023', '$1 = Rp15,445'),\n",
       " ('December 20, 2023', '$1 = Rp15,606'),\n",
       " ('December 19, 2023', '$1 = Rp15,462'),\n",
       " ('December 18, 2023', '$1 = Rp15,452'),\n",
       " ('December 15, 2023', '$1 = Rp15,529'),\n",
       " ('December 14, 2023', '$1 = Rp15,476'),\n",
       " ('December 13, 2023', '$1 = Rp15,360'),\n",
       " ('December 12, 2023', '$1 = Rp15,576'),\n",
       " ('December 11, 2023', '$1 = Rp15,653'),\n",
       " ('December 8, 2023', '$1 = Rp15,573'),\n",
       " ('December 7, 2023', '$1 = Rp15,507'),\n",
       " ('December 6, 2023', '$1 = Rp15,514'),\n",
       " ('December 5, 2023', '$1 = Rp15,463'),\n",
       " ('December 4, 2023', '$1 = Rp15,485'),\n",
       " ('December 1, 2023', '$1 = Rp15,413'),\n",
       " ('November 30, 2023', '$1 = Rp15,559'),\n",
       " ('November 29, 2023', '$1 = Rp15,459'),\n",
       " ('November 28, 2023', '$1 = Rp15,352'),\n",
       " ('November 27, 2023', '$1 = Rp15,505'),\n",
       " ('November 24, 2023', '$1 = Rp15,540'),\n",
       " ('November 23, 2023', '$1 = Rp15,633'),\n",
       " ('November 22, 2023', '$1 = Rp15,656'),\n",
       " ('November 21, 2023', '$1 = Rp15,517'),\n",
       " ('November 20, 2023', '$1 = Rp15,389'),\n",
       " ('November 17, 2023', '$1 = Rp15,424'),\n",
       " ('November 16, 2023', '$1 = Rp15,484'),\n",
       " ('November 15, 2023', '$1 = Rp15,519'),\n",
       " ('November 14, 2023', '$1 = Rp15,459'),\n",
       " ('November 13, 2023', '$1 = Rp15,683')]"
      ]
     },
     "execution_count": 58,
     "metadata": {},
     "output_type": "execute_result"
    }
   ],
   "source": [
    "temp = []  # Initiating a tuple\n",
    "\n",
    "for i in range(0, row_length):\n",
    "\n",
    "    # Scraping process\n",
    "    #get date\n",
    "    date = table.find_all('a', attrs= {'class':'w'})[i].text\n",
    "   \n",
    "    #get value\n",
    "    idr = table.find_all('span', attrs= {'class':'w'})[i].text\n",
    " \n",
    "    temp.append((date,idr))\n",
    "\n",
    "temp"
   ]
  },
  {
   "cell_type": "markdown",
   "metadata": {},
   "source": [
    "Note: You can customize the code inside the loop according to your needs to extract the desired information from the website you scrap. Make sure to check and adjust the code well to suit the HTML structure and information you want to retrieve."
   ]
  },
  {
   "cell_type": "markdown",
   "metadata": {},
   "source": [
    "## Creating data frame & Data wrangling"
   ]
  },
  {
   "cell_type": "markdown",
   "metadata": {},
   "source": [
    "Once we have extracted the data, we can put it into a dataframe."
   ]
  },
  {
   "cell_type": "code",
   "execution_count": 59,
   "metadata": {
    "ExecuteTime": {
     "end_time": "2020-01-13T05:12:41.517372Z",
     "start_time": "2020-01-13T05:12:29.130015Z"
    }
   },
   "outputs": [
    {
     "data": {
      "text/html": [
       "<div>\n",
       "<style scoped>\n",
       "    .dataframe tbody tr th:only-of-type {\n",
       "        vertical-align: middle;\n",
       "    }\n",
       "\n",
       "    .dataframe tbody tr th {\n",
       "        vertical-align: top;\n",
       "    }\n",
       "\n",
       "    .dataframe thead th {\n",
       "        text-align: right;\n",
       "    }\n",
       "</style>\n",
       "<table border=\"1\" class=\"dataframe\">\n",
       "  <thead>\n",
       "    <tr style=\"text-align: right;\">\n",
       "      <th></th>\n",
       "      <th>date</th>\n",
       "      <th>idr</th>\n",
       "    </tr>\n",
       "  </thead>\n",
       "  <tbody>\n",
       "    <tr>\n",
       "      <th>0</th>\n",
       "      <td>May 9, 2024</td>\n",
       "      <td>$1 = Rp16,027</td>\n",
       "    </tr>\n",
       "    <tr>\n",
       "      <th>1</th>\n",
       "      <td>May 8, 2024</td>\n",
       "      <td>$1 = Rp16,075</td>\n",
       "    </tr>\n",
       "    <tr>\n",
       "      <th>2</th>\n",
       "      <td>May 7, 2024</td>\n",
       "      <td>$1 = Rp16,072</td>\n",
       "    </tr>\n",
       "    <tr>\n",
       "      <th>3</th>\n",
       "      <td>May 6, 2024</td>\n",
       "      <td>$1 = Rp16,042</td>\n",
       "    </tr>\n",
       "    <tr>\n",
       "      <th>4</th>\n",
       "      <td>May 3, 2024</td>\n",
       "      <td>$1 = Rp15,969</td>\n",
       "    </tr>\n",
       "  </tbody>\n",
       "</table>\n",
       "</div>"
      ],
      "text/plain": [
       "          date            idr\n",
       "0  May 9, 2024  $1 = Rp16,027\n",
       "1  May 8, 2024  $1 = Rp16,075\n",
       "2  May 7, 2024  $1 = Rp16,072\n",
       "3  May 6, 2024  $1 = Rp16,042\n",
       "4  May 3, 2024  $1 = Rp15,969"
      ]
     },
     "execution_count": 59,
     "metadata": {},
     "output_type": "execute_result"
    }
   ],
   "source": [
    "import pandas as pd\n",
    "\n",
    "data = pd.DataFrame(temp, columns= ('date', 'idr'))\n",
    "data.head()"
   ]
  },
  {
   "cell_type": "markdown",
   "metadata": {},
   "source": [
    "### Data Cleansing\n",
    "\n",
    "(please change this markdown with your explanation of what you do for data wrangling)"
   ]
  },
  {
   "cell_type": "code",
   "execution_count": 60,
   "metadata": {
    "ExecuteTime": {
     "end_time": "2020-01-13T05:12:59.165559Z",
     "start_time": "2020-01-13T05:12:58.910012Z"
    }
   },
   "outputs": [
    {
     "data": {
      "text/plain": [
       "date    object\n",
       "idr     object\n",
       "dtype: object"
      ]
     },
     "execution_count": 60,
     "metadata": {},
     "output_type": "execute_result"
    }
   ],
   "source": [
    "data.dtypes"
   ]
  },
  {
   "cell_type": "code",
   "execution_count": 61,
   "metadata": {},
   "outputs": [],
   "source": [
    "data['date'] = data['date'].astype('datetime64[ns]')"
   ]
  },
  {
   "cell_type": "code",
   "execution_count": 62,
   "metadata": {},
   "outputs": [],
   "source": [
    "data['idr'] = data['idr'].str.replace(\"$1\" , \"\")\n",
    "data['idr'] = data['idr'].str.replace(\"=\" , \"\")\n",
    "data['idr'] = data['idr'].str.replace(\"Rp\" , \"\")\n",
    "data['idr'] = data['idr'].str.replace(\",\" , \"\")"
   ]
  },
  {
   "cell_type": "code",
   "execution_count": 63,
   "metadata": {},
   "outputs": [
    {
     "data": {
      "text/html": [
       "<div>\n",
       "<style scoped>\n",
       "    .dataframe tbody tr th:only-of-type {\n",
       "        vertical-align: middle;\n",
       "    }\n",
       "\n",
       "    .dataframe tbody tr th {\n",
       "        vertical-align: top;\n",
       "    }\n",
       "\n",
       "    .dataframe thead th {\n",
       "        text-align: right;\n",
       "    }\n",
       "</style>\n",
       "<table border=\"1\" class=\"dataframe\">\n",
       "  <thead>\n",
       "    <tr style=\"text-align: right;\">\n",
       "      <th></th>\n",
       "      <th>date</th>\n",
       "      <th>idr</th>\n",
       "    </tr>\n",
       "  </thead>\n",
       "  <tbody>\n",
       "    <tr>\n",
       "      <th>0</th>\n",
       "      <td>2024-05-09</td>\n",
       "      <td>16027</td>\n",
       "    </tr>\n",
       "    <tr>\n",
       "      <th>1</th>\n",
       "      <td>2024-05-08</td>\n",
       "      <td>16075</td>\n",
       "    </tr>\n",
       "    <tr>\n",
       "      <th>2</th>\n",
       "      <td>2024-05-07</td>\n",
       "      <td>16072</td>\n",
       "    </tr>\n",
       "    <tr>\n",
       "      <th>3</th>\n",
       "      <td>2024-05-06</td>\n",
       "      <td>16042</td>\n",
       "    </tr>\n",
       "    <tr>\n",
       "      <th>4</th>\n",
       "      <td>2024-05-03</td>\n",
       "      <td>15969</td>\n",
       "    </tr>\n",
       "  </tbody>\n",
       "</table>\n",
       "</div>"
      ],
      "text/plain": [
       "        date      idr\n",
       "0 2024-05-09    16027\n",
       "1 2024-05-08    16075\n",
       "2 2024-05-07    16072\n",
       "3 2024-05-06    16042\n",
       "4 2024-05-03    15969"
      ]
     },
     "execution_count": 63,
     "metadata": {},
     "output_type": "execute_result"
    }
   ],
   "source": [
    "data.head()"
   ]
  },
  {
   "cell_type": "code",
   "execution_count": 64,
   "metadata": {},
   "outputs": [],
   "source": [
    "data['idr'] = data['idr'].astype('int64')"
   ]
  },
  {
   "cell_type": "code",
   "execution_count": 65,
   "metadata": {},
   "outputs": [
    {
     "data": {
      "text/plain": [
       "date    datetime64[ns]\n",
       "idr              int64\n",
       "dtype: object"
      ]
     },
     "execution_count": 65,
     "metadata": {},
     "output_type": "execute_result"
    }
   ],
   "source": [
    "data.dtypes"
   ]
  },
  {
   "cell_type": "code",
   "execution_count": 66,
   "metadata": {},
   "outputs": [],
   "source": [
    "#Before make the plot, we should make date as an index\n",
    "data=data.set_index('date')"
   ]
  },
  {
   "cell_type": "markdown",
   "metadata": {},
   "source": [
    "### Data Visualization\n",
    "\n",
    "(please change this markdown with your explanation of what you do for data wrangling)"
   ]
  },
  {
   "cell_type": "code",
   "execution_count": 67,
   "metadata": {},
   "outputs": [
    {
     "data": {
      "text/plain": [
       "<Axes: xlabel='date'>"
      ]
     },
     "execution_count": 67,
     "metadata": {},
     "output_type": "execute_result"
    },
    {
     "data": {
      "image/png": "[encoded data removed]",
      "text/plain": [
       "<Figure size 640x480 with 1 Axes>"
      ]
     },
     "metadata": {},
     "output_type": "display_data"
    }
   ],
   "source": [
    "data.plot()"
   ]
  },
  {
   "cell_type": "markdown",
   "metadata": {},
   "source": [
    "Insight: \n",
    "exchange rate start to increase on january 2024, maybe it's caused by the election, as we can see it when 2019 election, before election conducted the rupiah was weakened buat after the annoucement of the election results, rupiah start to strengthen again, proven by the decline of the exchange rate.\n",
    "Other factors that might be influenced are global economic condition and US economic condition"
   ]
  },
  {
   "cell_type": "markdown",
   "metadata": {},
   "source": [
    "### Implementing your webscrapping to the flask dashboard\n",
    "\n",
    "- Copy paste all of your web scrapping process to the desired position on the `app.py`\n",
    "- Change the title of the dashboard in `index.html`"
   ]
  },
  {
   "cell_type": "markdown",
   "metadata": {},
   "source": [
    "## Finishing This Notebook with Your Analysis and Conclusion\n",
    "\n",
    "First you can do start with making the data visualization."
   ]
  },
  {
   "cell_type": "code",
   "execution_count": null,
   "metadata": {
    "ExecuteTime": {
     "end_time": "2020-01-13T05:20:56.208237Z",
     "start_time": "2020-01-13T05:20:56.076043Z"
    }
   },
   "outputs": [],
   "source": []
  },
  {
   "cell_type": "markdown",
   "metadata": {},
   "source": [
    "## Analysis\n",
    "\n",
    "(Put your analysis and conclusion here.)"
   ]
  },
  {
   "cell_type": "markdown",
   "metadata": {},
   "source": [
    "Insight: \n",
    "Exchange rate start to increase on january 2024, maybe it's caused by the election, as we can see it when 2019 election, before election conducted the rupiah was weakened buat after the annoucement of the election results, rupiah start to strengthen again, proven by the decline of the exchange rate.\n",
    "Other factors that might be influenced are global economic condition and US economic condition."
   ]
  },
  {
   "cell_type": "markdown",
   "metadata": {},
   "source": [
    "### Extra Challange\n",
    "\n",
    "This will be not included to the scoring. \n",
    "\n",
    "- You can create additional visualization/analysis from the data.\n",
    "- Implement it to the dashboard with at `app.py` dan `index.html`."
   ]
  }
 ],
 "metadata": {
  "kernelspec": {
   "display_name": "Caps_DA_webscrap",
   "language": "python",
   "name": "python3"
  },
  "language_info": {
   "codemirror_mode": {
    "name": "ipython",
    "version": 3
   },
   "file_extension": ".py",
   "mimetype": "text/x-python",
   "name": "python",
   "nbconvert_exporter": "python",
   "pygments_lexer": "ipython3",
   "version": "3.10.14"
  }
 },
 "nbformat": 4,
 "nbformat_minor": 2
}
